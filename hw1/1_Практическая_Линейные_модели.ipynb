{
  "cells": [
    {
      "cell_type": "markdown",
      "metadata": {
        "id": "BND1G8Fuqxfe"
      },
      "source": [
        "## О задании\n",
        "В этом задании вы будете предсказывать один из параметров человека (рост, вес, возраст).\n",
        "\n",
        "Работать мы будем с датасетом человеческих параметров [Body Fat Prediction Dataset](https://www.kaggle.com/datasets/fedesoriano/body-fat-prediction-dataset).\n",
        "\n",
        "### Формат сдачи\n",
        "Данное задание сдаётся через [эту гугл форму](https://forms.gle/YdvLRGWAsNaNvQvs7). Не забудьте открыть доступ по ссылке к файлу (справа сверху \"Поделиться\" или \"Share\")"
      ]
    },
    {
      "cell_type": "markdown",
      "metadata": {
        "id": "_n936tqZG3bv"
      },
      "source": [
        "## Приступим"
      ]
    },
    {
      "cell_type": "markdown",
      "metadata": {
        "id": "Yy4kifdSG7Ul"
      },
      "source": [
        "Сделаем импорты"
      ]
    },
    {
      "cell_type": "code",
      "execution_count": 6,
      "metadata": {
        "ExecuteTime": {
          "end_time": "2020-09-26T16:48:20.566549Z",
          "start_time": "2020-09-26T16:48:19.893995Z"
        },
        "id": "2wNOGbtOqxfl"
      },
      "outputs": [],
      "source": [
        "import pandas as pd\n",
        "import numpy as np\n",
        "import matplotlib.pyplot as plt\n",
        "import seaborn as sns"
      ]
    },
    {
      "cell_type": "markdown",
      "metadata": {
        "id": "KzUU6xPOHADd"
      },
      "source": [
        "Загрузите данные из файла `bodyfat.csv` и сохраните в переменную `df`. Выведите первые 5 строк, число строк и столбцов"
      ]
    },
    {
      "cell_type": "code",
      "execution_count": 7,
      "metadata": {
        "colab": {
          "base_uri": "https://localhost:8080/",
          "height": 224
        },
        "id": "vU4ez4DJC2x7",
        "outputId": "ce980f4a-2f64-4e50-985e-57fd2b325140"
      },
      "outputs": [
        {
          "data": {
            "text/html": [
              "<div>\n",
              "<style scoped>\n",
              "    .dataframe tbody tr th:only-of-type {\n",
              "        vertical-align: middle;\n",
              "    }\n",
              "\n",
              "    .dataframe tbody tr th {\n",
              "        vertical-align: top;\n",
              "    }\n",
              "\n",
              "    .dataframe thead th {\n",
              "        text-align: right;\n",
              "    }\n",
              "</style>\n",
              "<table border=\"1\" class=\"dataframe\">\n",
              "  <thead>\n",
              "    <tr style=\"text-align: right;\">\n",
              "      <th></th>\n",
              "      <th>Density</th>\n",
              "      <th>BodyFat</th>\n",
              "      <th>Age</th>\n",
              "      <th>Weight</th>\n",
              "      <th>Height</th>\n",
              "      <th>Neck</th>\n",
              "      <th>Chest</th>\n",
              "      <th>Abdomen</th>\n",
              "      <th>Hip</th>\n",
              "      <th>Thigh</th>\n",
              "      <th>Knee</th>\n",
              "      <th>Ankle</th>\n",
              "      <th>Biceps</th>\n",
              "      <th>Forearm</th>\n",
              "      <th>Wrist</th>\n",
              "    </tr>\n",
              "  </thead>\n",
              "  <tbody>\n",
              "    <tr>\n",
              "      <th>0</th>\n",
              "      <td>1.0708</td>\n",
              "      <td>12.3</td>\n",
              "      <td>23</td>\n",
              "      <td>154.25</td>\n",
              "      <td>67.75</td>\n",
              "      <td>36.2</td>\n",
              "      <td>93.1</td>\n",
              "      <td>85.2</td>\n",
              "      <td>94.5</td>\n",
              "      <td>59.0</td>\n",
              "      <td>37.3</td>\n",
              "      <td>21.9</td>\n",
              "      <td>32.0</td>\n",
              "      <td>27.4</td>\n",
              "      <td>17.1</td>\n",
              "    </tr>\n",
              "    <tr>\n",
              "      <th>1</th>\n",
              "      <td>1.0853</td>\n",
              "      <td>6.1</td>\n",
              "      <td>22</td>\n",
              "      <td>173.25</td>\n",
              "      <td>72.25</td>\n",
              "      <td>38.5</td>\n",
              "      <td>93.6</td>\n",
              "      <td>83.0</td>\n",
              "      <td>98.7</td>\n",
              "      <td>58.7</td>\n",
              "      <td>37.3</td>\n",
              "      <td>23.4</td>\n",
              "      <td>30.5</td>\n",
              "      <td>28.9</td>\n",
              "      <td>18.2</td>\n",
              "    </tr>\n",
              "    <tr>\n",
              "      <th>2</th>\n",
              "      <td>1.0414</td>\n",
              "      <td>25.3</td>\n",
              "      <td>22</td>\n",
              "      <td>154.00</td>\n",
              "      <td>66.25</td>\n",
              "      <td>34.0</td>\n",
              "      <td>95.8</td>\n",
              "      <td>87.9</td>\n",
              "      <td>99.2</td>\n",
              "      <td>59.6</td>\n",
              "      <td>38.9</td>\n",
              "      <td>24.0</td>\n",
              "      <td>28.8</td>\n",
              "      <td>25.2</td>\n",
              "      <td>16.6</td>\n",
              "    </tr>\n",
              "    <tr>\n",
              "      <th>3</th>\n",
              "      <td>1.0751</td>\n",
              "      <td>10.4</td>\n",
              "      <td>26</td>\n",
              "      <td>184.75</td>\n",
              "      <td>72.25</td>\n",
              "      <td>37.4</td>\n",
              "      <td>101.8</td>\n",
              "      <td>86.4</td>\n",
              "      <td>101.2</td>\n",
              "      <td>60.1</td>\n",
              "      <td>37.3</td>\n",
              "      <td>22.8</td>\n",
              "      <td>32.4</td>\n",
              "      <td>29.4</td>\n",
              "      <td>18.2</td>\n",
              "    </tr>\n",
              "    <tr>\n",
              "      <th>4</th>\n",
              "      <td>1.0340</td>\n",
              "      <td>28.7</td>\n",
              "      <td>24</td>\n",
              "      <td>184.25</td>\n",
              "      <td>71.25</td>\n",
              "      <td>34.4</td>\n",
              "      <td>97.3</td>\n",
              "      <td>100.0</td>\n",
              "      <td>101.9</td>\n",
              "      <td>63.2</td>\n",
              "      <td>42.2</td>\n",
              "      <td>24.0</td>\n",
              "      <td>32.2</td>\n",
              "      <td>27.7</td>\n",
              "      <td>17.7</td>\n",
              "    </tr>\n",
              "  </tbody>\n",
              "</table>\n",
              "</div>"
            ],
            "text/plain": [
              "   Density  BodyFat  Age  Weight  Height  Neck  Chest  Abdomen    Hip  Thigh  \\\n",
              "0   1.0708     12.3   23  154.25   67.75  36.2   93.1     85.2   94.5   59.0   \n",
              "1   1.0853      6.1   22  173.25   72.25  38.5   93.6     83.0   98.7   58.7   \n",
              "2   1.0414     25.3   22  154.00   66.25  34.0   95.8     87.9   99.2   59.6   \n",
              "3   1.0751     10.4   26  184.75   72.25  37.4  101.8     86.4  101.2   60.1   \n",
              "4   1.0340     28.7   24  184.25   71.25  34.4   97.3    100.0  101.9   63.2   \n",
              "\n",
              "   Knee  Ankle  Biceps  Forearm  Wrist  \n",
              "0  37.3   21.9    32.0     27.4   17.1  \n",
              "1  37.3   23.4    30.5     28.9   18.2  \n",
              "2  38.9   24.0    28.8     25.2   16.6  \n",
              "3  37.3   22.8    32.4     29.4   18.2  \n",
              "4  42.2   24.0    32.2     27.7   17.7  "
            ]
          },
          "metadata": {},
          "output_type": "display_data"
        },
        {
          "data": {
            "text/plain": [
              "(252, 15)"
            ]
          },
          "execution_count": 7,
          "metadata": {},
          "output_type": "execute_result"
        }
      ],
      "source": [
        "### ЗДЕСЬ ВАШ КОД ¯\\_(ツ)_/¯ \n",
        "\n",
        "df = pd.read_csv('./resources/bodyfat.csv')\n",
        "display(df.head(5))\n",
        "df.shape"
      ]
    },
    {
      "cell_type": "markdown",
      "metadata": {
        "id": "shL3IiYOJarE"
      },
      "source": [
        "### Первичный анализ"
      ]
    },
    {
      "cell_type": "markdown",
      "metadata": {
        "id": "le0xZoCwKIxl"
      },
      "source": [
        "Ознакомиться со значениями признаков вы можете [по ссылке](https://www.kaggle.com/datasets/fedesoriano/body-fat-prediction-dataset)"
      ]
    },
    {
      "cell_type": "markdown",
      "metadata": {
        "id": "cOik_bNVHjoR"
      },
      "source": [
        "Посмотрите, есть ли пропуски в данных. Если есть, то избавьтесь от них. Вам может понадобиться метод [`dropna`](https://pandas.pydata.org/docs/reference/api/pandas.DataFrame.dropna.html)"
      ]
    },
    {
      "cell_type": "code",
      "execution_count": 51,
      "metadata": {
        "colab": {
          "base_uri": "https://localhost:8080/"
        },
        "id": "xvyN0aVIqxge",
        "outputId": "e1ea9f62-4676-40a6-964d-1ba47106a7f7"
      },
      "outputs": [
        {
          "name": "stdout",
          "output_type": "stream",
          "text": [
            "Есть ли NA: False\n"
          ]
        }
      ],
      "source": [
        "### ЗДЕСЬ ВАШ КОД ¯\\_(ツ)_/¯\n",
        "# Загружал с Kaggle, там нет NA, на колабе были\n",
        "print(f'Есть ли NA: {df.isna().values.any()}')"
      ]
    },
    {
      "cell_type": "markdown",
      "metadata": {
        "id": "i8lhP4mcXYT8"
      },
      "source": [
        "Построим карту корреляций"
      ]
    },
    {
      "cell_type": "code",
      "execution_count": 9,
      "metadata": {
        "colab": {
          "base_uri": "https://localhost:8080/",
          "height": 520
        },
        "id": "4VgKlZtOICSs",
        "outputId": "ba0f9d8e-9274-4bf2-e631-566110bd9e47"
      },
      "outputs": [
        {
          "data": {
            "text/html": [
              "<style type=\"text/css\">\n",
              "#T_a13e9_row0_col0, #T_a13e9_row1_col1, #T_a13e9_row2_col2, #T_a13e9_row3_col3, #T_a13e9_row4_col4, #T_a13e9_row5_col5, #T_a13e9_row6_col6, #T_a13e9_row7_col7, #T_a13e9_row8_col8, #T_a13e9_row9_col9, #T_a13e9_row10_col10, #T_a13e9_row11_col11, #T_a13e9_row12_col12, #T_a13e9_row13_col13, #T_a13e9_row14_col14 {\n",
              "  background-color: #b40426;\n",
              "  color: #f1f1f1;\n",
              "}\n",
              "#T_a13e9_row0_col1, #T_a13e9_row0_col2, #T_a13e9_row0_col3, #T_a13e9_row0_col5, #T_a13e9_row0_col6, #T_a13e9_row0_col7, #T_a13e9_row0_col8, #T_a13e9_row0_col9, #T_a13e9_row0_col10, #T_a13e9_row0_col11, #T_a13e9_row0_col12, #T_a13e9_row0_col13, #T_a13e9_row0_col14, #T_a13e9_row1_col0, #T_a13e9_row2_col4 {\n",
              "  background-color: #3b4cc0;\n",
              "  color: #f1f1f1;\n",
              "}\n",
              "#T_a13e9_row0_col4, #T_a13e9_row2_col9 {\n",
              "  background-color: #85a8fc;\n",
              "  color: #f1f1f1;\n",
              "}\n",
              "#T_a13e9_row1_col2 {\n",
              "  background-color: #cedaeb;\n",
              "  color: #000000;\n",
              "}\n",
              "#T_a13e9_row1_col3, #T_a13e9_row11_col3 {\n",
              "  background-color: #f39778;\n",
              "  color: #000000;\n",
              "}\n",
              "#T_a13e9_row1_col4 {\n",
              "  background-color: #4f69d9;\n",
              "  color: #f1f1f1;\n",
              "}\n",
              "#T_a13e9_row1_col5, #T_a13e9_row11_col12 {\n",
              "  background-color: #f7bca1;\n",
              "  color: #000000;\n",
              "}\n",
              "#T_a13e9_row1_col6, #T_a13e9_row7_col10 {\n",
              "  background-color: #e97a5f;\n",
              "  color: #f1f1f1;\n",
              "}\n",
              "#T_a13e9_row1_col7 {\n",
              "  background-color: #d75445;\n",
              "  color: #f1f1f1;\n",
              "}\n",
              "#T_a13e9_row1_col8, #T_a13e9_row13_col3 {\n",
              "  background-color: #f29274;\n",
              "  color: #f1f1f1;\n",
              "}\n",
              "#T_a13e9_row1_col9, #T_a13e9_row13_col8, #T_a13e9_row14_col9 {\n",
              "  background-color: #f7a688;\n",
              "  color: #000000;\n",
              "}\n",
              "#T_a13e9_row1_col10, #T_a13e9_row10_col13, #T_a13e9_row14_col1 {\n",
              "  background-color: #f7b79b;\n",
              "  color: #000000;\n",
              "}\n",
              "#T_a13e9_row1_col11, #T_a13e9_row4_col11, #T_a13e9_row14_col4 {\n",
              "  background-color: #c6d6f1;\n",
              "  color: #000000;\n",
              "}\n",
              "#T_a13e9_row1_col12, #T_a13e9_row14_col11 {\n",
              "  background-color: #f7ba9f;\n",
              "  color: #000000;\n",
              "}\n",
              "#T_a13e9_row1_col13 {\n",
              "  background-color: #e4d9d2;\n",
              "  color: #000000;\n",
              "}\n",
              "#T_a13e9_row1_col14 {\n",
              "  background-color: #dedcdb;\n",
              "  color: #000000;\n",
              "}\n",
              "#T_a13e9_row2_col0 {\n",
              "  background-color: #b2ccfb;\n",
              "  color: #000000;\n",
              "}\n",
              "#T_a13e9_row2_col1 {\n",
              "  background-color: #f6bfa6;\n",
              "  color: #000000;\n",
              "}\n",
              "#T_a13e9_row2_col3, #T_a13e9_row11_col0 {\n",
              "  background-color: #b5cdfa;\n",
              "  color: #000000;\n",
              "}\n",
              "#T_a13e9_row2_col5, #T_a13e9_row7_col2 {\n",
              "  background-color: #bfd3f6;\n",
              "  color: #000000;\n",
              "}\n",
              "#T_a13e9_row2_col6 {\n",
              "  background-color: #dfdbd9;\n",
              "  color: #000000;\n",
              "}\n",
              "#T_a13e9_row2_col7 {\n",
              "  background-color: #edd1c2;\n",
              "  color: #000000;\n",
              "}\n",
              "#T_a13e9_row2_col8 {\n",
              "  background-color: #aec9fc;\n",
              "  color: #000000;\n",
              "}\n",
              "#T_a13e9_row2_col10, #T_a13e9_row13_col4 {\n",
              "  background-color: #adc9fd;\n",
              "  color: #000000;\n",
              "}\n",
              "#T_a13e9_row2_col11 {\n",
              "  background-color: #6282ea;\n",
              "  color: #f1f1f1;\n",
              "}\n",
              "#T_a13e9_row2_col12 {\n",
              "  background-color: #9ebeff;\n",
              "  color: #000000;\n",
              "}\n",
              "#T_a13e9_row2_col13, #T_a13e9_row3_col0 {\n",
              "  background-color: #7a9df8;\n",
              "  color: #f1f1f1;\n",
              "}\n",
              "#T_a13e9_row2_col14, #T_a13e9_row3_col4 {\n",
              "  background-color: #c3d5f4;\n",
              "  color: #000000;\n",
              "}\n",
              "#T_a13e9_row3_col1, #T_a13e9_row5_col14 {\n",
              "  background-color: #ec8165;\n",
              "  color: #f1f1f1;\n",
              "}\n",
              "#T_a13e9_row3_col2 {\n",
              "  background-color: #7ea1fa;\n",
              "  color: #f1f1f1;\n",
              "}\n",
              "#T_a13e9_row3_col5 {\n",
              "  background-color: #da5a49;\n",
              "  color: #f1f1f1;\n",
              "}\n",
              "#T_a13e9_row3_col6, #T_a13e9_row6_col3, #T_a13e9_row9_col8 {\n",
              "  background-color: #cb3e38;\n",
              "  color: #f1f1f1;\n",
              "}\n",
              "#T_a13e9_row3_col7 {\n",
              "  background-color: #ca3b37;\n",
              "  color: #f1f1f1;\n",
              "}\n",
              "#T_a13e9_row3_col8, #T_a13e9_row8_col3 {\n",
              "  background-color: #c12b30;\n",
              "  color: #f1f1f1;\n",
              "}\n",
              "#T_a13e9_row3_col9, #T_a13e9_row9_col3 {\n",
              "  background-color: #d1493f;\n",
              "  color: #f1f1f1;\n",
              "}\n",
              "#T_a13e9_row3_col10, #T_a13e9_row8_col6 {\n",
              "  background-color: #d65244;\n",
              "  color: #f1f1f1;\n",
              "}\n",
              "#T_a13e9_row3_col11, #T_a13e9_row10_col11, #T_a13e9_row11_col6, #T_a13e9_row14_col13 {\n",
              "  background-color: #f7af91;\n",
              "  color: #000000;\n",
              "}\n",
              "#T_a13e9_row3_col12, #T_a13e9_row5_col7, #T_a13e9_row9_col10 {\n",
              "  background-color: #e0654f;\n",
              "  color: #f1f1f1;\n",
              "}\n",
              "#T_a13e9_row3_col13, #T_a13e9_row11_col8, #T_a13e9_row13_col7 {\n",
              "  background-color: #f6a385;\n",
              "  color: #000000;\n",
              "}\n",
              "#T_a13e9_row3_col14, #T_a13e9_row9_col5 {\n",
              "  background-color: #ee8669;\n",
              "  color: #f1f1f1;\n",
              "}\n",
              "#T_a13e9_row4_col0 {\n",
              "  background-color: #e8d6cc;\n",
              "  color: #000000;\n",
              "}\n",
              "#T_a13e9_row4_col1, #T_a13e9_row4_col9 {\n",
              "  background-color: #cfdaea;\n",
              "  color: #000000;\n",
              "}\n",
              "#T_a13e9_row4_col2 {\n",
              "  background-color: #5470de;\n",
              "  color: #f1f1f1;\n",
              "}\n",
              "#T_a13e9_row4_col3 {\n",
              "  background-color: #ecd3c5;\n",
              "  color: #000000;\n",
              "}\n",
              "#T_a13e9_row4_col5, #T_a13e9_row4_col7 {\n",
              "  background-color: #dbdcde;\n",
              "  color: #000000;\n",
              "}\n",
              "#T_a13e9_row4_col6, #T_a13e9_row4_col8 {\n",
              "  background-color: #d9dce1;\n",
              "  color: #000000;\n",
              "}\n",
              "#T_a13e9_row4_col10 {\n",
              "  background-color: #e2dad5;\n",
              "  color: #000000;\n",
              "}\n",
              "#T_a13e9_row4_col12 {\n",
              "  background-color: #d4dbe6;\n",
              "  color: #000000;\n",
              "}\n",
              "#T_a13e9_row4_col13 {\n",
              "  background-color: #c9d7f0;\n",
              "  color: #000000;\n",
              "}\n",
              "#T_a13e9_row4_col14 {\n",
              "  background-color: #dadce0;\n",
              "  color: #000000;\n",
              "}\n",
              "#T_a13e9_row5_col0, #T_a13e9_row6_col4 {\n",
              "  background-color: #90b2fe;\n",
              "  color: #000000;\n",
              "}\n",
              "#T_a13e9_row5_col1, #T_a13e9_row6_col14, #T_a13e9_row12_col1, #T_a13e9_row13_col5 {\n",
              "  background-color: #f59c7d;\n",
              "  color: #000000;\n",
              "}\n",
              "#T_a13e9_row5_col2 {\n",
              "  background-color: #a1c0ff;\n",
              "  color: #000000;\n",
              "}\n",
              "#T_a13e9_row5_col3, #T_a13e9_row6_col8 {\n",
              "  background-color: #d85646;\n",
              "  color: #f1f1f1;\n",
              "}\n",
              "#T_a13e9_row5_col4 {\n",
              "  background-color: #b3cdfb;\n",
              "  color: #000000;\n",
              "}\n",
              "#T_a13e9_row5_col6, #T_a13e9_row12_col3 {\n",
              "  background-color: #de614d;\n",
              "  color: #f1f1f1;\n",
              "}\n",
              "#T_a13e9_row5_col8, #T_a13e9_row7_col5, #T_a13e9_row10_col6 {\n",
              "  background-color: #e7745b;\n",
              "  color: #f1f1f1;\n",
              "}\n",
              "#T_a13e9_row5_col9 {\n",
              "  background-color: #ed8366;\n",
              "  color: #f1f1f1;\n",
              "}\n",
              "#T_a13e9_row5_col10, #T_a13e9_row9_col1, #T_a13e9_row10_col5 {\n",
              "  background-color: #f18d6f;\n",
              "  color: #f1f1f1;\n",
              "}\n",
              "#T_a13e9_row5_col11 {\n",
              "  background-color: #f0cdbb;\n",
              "  color: #000000;\n",
              "}\n",
              "#T_a13e9_row5_col12, #T_a13e9_row6_col12, #T_a13e9_row8_col5, #T_a13e9_row12_col5 {\n",
              "  background-color: #ea7b60;\n",
              "  color: #f1f1f1;\n",
              "}\n",
              "#T_a13e9_row5_col13, #T_a13e9_row8_col14, #T_a13e9_row12_col14, #T_a13e9_row13_col9 {\n",
              "  background-color: #f6a586;\n",
              "  color: #000000;\n",
              "}\n",
              "#T_a13e9_row6_col0 {\n",
              "  background-color: #6b8df0;\n",
              "  color: #f1f1f1;\n",
              "}\n",
              "#T_a13e9_row6_col1, #T_a13e9_row7_col9 {\n",
              "  background-color: #e36c55;\n",
              "  color: #f1f1f1;\n",
              "}\n",
              "#T_a13e9_row6_col2 {\n",
              "  background-color: #b1cbfc;\n",
              "  color: #000000;\n",
              "}\n",
              "#T_a13e9_row6_col5, #T_a13e9_row10_col7 {\n",
              "  background-color: #e36b54;\n",
              "  color: #f1f1f1;\n",
              "}\n",
              "#T_a13e9_row6_col7 {\n",
              "  background-color: #c43032;\n",
              "  color: #f1f1f1;\n",
              "}\n",
              "#T_a13e9_row6_col9, #T_a13e9_row8_col12, #T_a13e9_row12_col7, #T_a13e9_row14_col5 {\n",
              "  background-color: #e9785d;\n",
              "  color: #f1f1f1;\n",
              "}\n",
              "#T_a13e9_row6_col10, #T_a13e9_row8_col1 {\n",
              "  background-color: #ec7f63;\n",
              "  color: #f1f1f1;\n",
              "}\n",
              "#T_a13e9_row6_col11, #T_a13e9_row12_col11 {\n",
              "  background-color: #f1cdba;\n",
              "  color: #000000;\n",
              "}\n",
              "#T_a13e9_row6_col13 {\n",
              "  background-color: #f7b093;\n",
              "  color: #000000;\n",
              "}\n",
              "#T_a13e9_row7_col0 {\n",
              "  background-color: #5875e1;\n",
              "  color: #f1f1f1;\n",
              "}\n",
              "#T_a13e9_row7_col1 {\n",
              "  background-color: #d55042;\n",
              "  color: #f1f1f1;\n",
              "}\n",
              "#T_a13e9_row7_col3, #T_a13e9_row8_col7, #T_a13e9_row8_col9 {\n",
              "  background-color: #cc403a;\n",
              "  color: #f1f1f1;\n",
              "}\n",
              "#T_a13e9_row7_col4 {\n",
              "  background-color: #82a6fb;\n",
              "  color: #f1f1f1;\n",
              "}\n",
              "#T_a13e9_row7_col6 {\n",
              "  background-color: #c53334;\n",
              "  color: #f1f1f1;\n",
              "}\n",
              "#T_a13e9_row7_col8 {\n",
              "  background-color: #d0473d;\n",
              "  color: #f1f1f1;\n",
              "}\n",
              "#T_a13e9_row7_col11, #T_a13e9_row11_col13 {\n",
              "  background-color: #edd2c3;\n",
              "  color: #000000;\n",
              "}\n",
              "#T_a13e9_row7_col12, #T_a13e9_row14_col7 {\n",
              "  background-color: #f08a6c;\n",
              "  color: #f1f1f1;\n",
              "}\n",
              "#T_a13e9_row7_col13, #T_a13e9_row11_col1 {\n",
              "  background-color: #f5c2aa;\n",
              "  color: #000000;\n",
              "}\n",
              "#T_a13e9_row7_col14 {\n",
              "  background-color: #f7a889;\n",
              "  color: #000000;\n",
              "}\n",
              "#T_a13e9_row8_col0 {\n",
              "  background-color: #779af7;\n",
              "  color: #f1f1f1;\n",
              "}\n",
              "#T_a13e9_row8_col2 {\n",
              "  background-color: #7396f5;\n",
              "  color: #f1f1f1;\n",
              "}\n",
              "#T_a13e9_row8_col4 {\n",
              "  background-color: #9bbcff;\n",
              "  color: #000000;\n",
              "}\n",
              "#T_a13e9_row8_col10 {\n",
              "  background-color: #dc5d4a;\n",
              "  color: #f1f1f1;\n",
              "}\n",
              "#T_a13e9_row8_col11 {\n",
              "  background-color: #f6bda2;\n",
              "  color: #000000;\n",
              "}\n",
              "#T_a13e9_row8_col13 {\n",
              "  background-color: #f7b99e;\n",
              "  color: #000000;\n",
              "}\n",
              "#T_a13e9_row9_col0 {\n",
              "  background-color: #81a4fb;\n",
              "  color: #f1f1f1;\n",
              "}\n",
              "#T_a13e9_row9_col2 {\n",
              "  background-color: #4c66d6;\n",
              "  color: #f1f1f1;\n",
              "}\n",
              "#T_a13e9_row9_col4 {\n",
              "  background-color: #94b6ff;\n",
              "  color: #000000;\n",
              "}\n",
              "#T_a13e9_row9_col6, #T_a13e9_row9_col12, #T_a13e9_row12_col6, #T_a13e9_row12_col8 {\n",
              "  background-color: #e67259;\n",
              "  color: #f1f1f1;\n",
              "}\n",
              "#T_a13e9_row9_col7, #T_a13e9_row10_col9 {\n",
              "  background-color: #df634e;\n",
              "  color: #f1f1f1;\n",
              "}\n",
              "#T_a13e9_row9_col11 {\n",
              "  background-color: #f5c1a9;\n",
              "  color: #000000;\n",
              "}\n",
              "#T_a13e9_row9_col13, #T_a13e9_row13_col1 {\n",
              "  background-color: #f7b497;\n",
              "  color: #000000;\n",
              "}\n",
              "#T_a13e9_row9_col14 {\n",
              "  background-color: #f7b89c;\n",
              "  color: #000000;\n",
              "}\n",
              "#T_a13e9_row10_col0 {\n",
              "  background-color: #8caffe;\n",
              "  color: #000000;\n",
              "}\n",
              "#T_a13e9_row10_col1, #T_a13e9_row13_col6, #T_a13e9_row14_col12 {\n",
              "  background-color: #f4987a;\n",
              "  color: #000000;\n",
              "}\n",
              "#T_a13e9_row10_col2 {\n",
              "  background-color: #86a9fc;\n",
              "  color: #f1f1f1;\n",
              "}\n",
              "#T_a13e9_row10_col3 {\n",
              "  background-color: #d44e41;\n",
              "  color: #f1f1f1;\n",
              "}\n",
              "#T_a13e9_row10_col4 {\n",
              "  background-color: #bed2f6;\n",
              "  color: #000000;\n",
              "}\n",
              "#T_a13e9_row10_col8 {\n",
              "  background-color: #d95847;\n",
              "  color: #f1f1f1;\n",
              "}\n",
              "#T_a13e9_row10_col12, #T_a13e9_row12_col10, #T_a13e9_row13_col12 {\n",
              "  background-color: #f08b6e;\n",
              "  color: #f1f1f1;\n",
              "}\n",
              "#T_a13e9_row10_col14 {\n",
              "  background-color: #f49a7b;\n",
              "  color: #000000;\n",
              "}\n",
              "#T_a13e9_row11_col2 {\n",
              "  background-color: #6485ec;\n",
              "  color: #f1f1f1;\n",
              "}\n",
              "#T_a13e9_row11_col4 {\n",
              "  background-color: #b7cff9;\n",
              "  color: #000000;\n",
              "}\n",
              "#T_a13e9_row11_col5 {\n",
              "  background-color: #f6bea4;\n",
              "  color: #000000;\n",
              "}\n",
              "#T_a13e9_row11_col7 {\n",
              "  background-color: #f7ad90;\n",
              "  color: #000000;\n",
              "}\n",
              "#T_a13e9_row11_col9 {\n",
              "  background-color: #f7aa8c;\n",
              "  color: #000000;\n",
              "}\n",
              "#T_a13e9_row11_col10 {\n",
              "  background-color: #f59d7e;\n",
              "  color: #000000;\n",
              "}\n",
              "#T_a13e9_row11_col14 {\n",
              "  background-color: #f7b599;\n",
              "  color: #000000;\n",
              "}\n",
              "#T_a13e9_row12_col0 {\n",
              "  background-color: #8db0fe;\n",
              "  color: #000000;\n",
              "}\n",
              "#T_a13e9_row12_col2 {\n",
              "  background-color: #7699f6;\n",
              "  color: #f1f1f1;\n",
              "}\n",
              "#T_a13e9_row12_col4 {\n",
              "  background-color: #a6c4fe;\n",
              "  color: #000000;\n",
              "}\n",
              "#T_a13e9_row12_col9 {\n",
              "  background-color: #e46e56;\n",
              "  color: #f1f1f1;\n",
              "}\n",
              "#T_a13e9_row12_col13 {\n",
              "  background-color: #f39475;\n",
              "  color: #000000;\n",
              "}\n",
              "#T_a13e9_row13_col0 {\n",
              "  background-color: #a5c3fe;\n",
              "  color: #000000;\n",
              "}\n",
              "#T_a13e9_row13_col2 {\n",
              "  background-color: #6a8bef;\n",
              "  color: #f1f1f1;\n",
              "}\n",
              "#T_a13e9_row13_col10 {\n",
              "  background-color: #f7ac8e;\n",
              "  color: #000000;\n",
              "}\n",
              "#T_a13e9_row13_col11 {\n",
              "  background-color: #e7d7ce;\n",
              "  color: #000000;\n",
              "}\n",
              "#T_a13e9_row13_col14 {\n",
              "  background-color: #f7b194;\n",
              "  color: #000000;\n",
              "}\n",
              "#T_a13e9_row14_col0 {\n",
              "  background-color: #aac7fd;\n",
              "  color: #000000;\n",
              "}\n",
              "#T_a13e9_row14_col2 {\n",
              "  background-color: #bbd1f8;\n",
              "  color: #000000;\n",
              "}\n",
              "#T_a13e9_row14_col3 {\n",
              "  background-color: #e8765c;\n",
              "  color: #f1f1f1;\n",
              "}\n",
              "#T_a13e9_row14_col6 {\n",
              "  background-color: #ee8468;\n",
              "  color: #f1f1f1;\n",
              "}\n",
              "#T_a13e9_row14_col8 {\n",
              "  background-color: #f29072;\n",
              "  color: #f1f1f1;\n",
              "}\n",
              "#T_a13e9_row14_col10 {\n",
              "  background-color: #f18f71;\n",
              "  color: #f1f1f1;\n",
              "}\n",
              "</style>\n",
              "<table id=\"T_a13e9\">\n",
              "  <thead>\n",
              "    <tr>\n",
              "      <th class=\"blank level0\" >&nbsp;</th>\n",
              "      <th id=\"T_a13e9_level0_col0\" class=\"col_heading level0 col0\" >Density</th>\n",
              "      <th id=\"T_a13e9_level0_col1\" class=\"col_heading level0 col1\" >BodyFat</th>\n",
              "      <th id=\"T_a13e9_level0_col2\" class=\"col_heading level0 col2\" >Age</th>\n",
              "      <th id=\"T_a13e9_level0_col3\" class=\"col_heading level0 col3\" >Weight</th>\n",
              "      <th id=\"T_a13e9_level0_col4\" class=\"col_heading level0 col4\" >Height</th>\n",
              "      <th id=\"T_a13e9_level0_col5\" class=\"col_heading level0 col5\" >Neck</th>\n",
              "      <th id=\"T_a13e9_level0_col6\" class=\"col_heading level0 col6\" >Chest</th>\n",
              "      <th id=\"T_a13e9_level0_col7\" class=\"col_heading level0 col7\" >Abdomen</th>\n",
              "      <th id=\"T_a13e9_level0_col8\" class=\"col_heading level0 col8\" >Hip</th>\n",
              "      <th id=\"T_a13e9_level0_col9\" class=\"col_heading level0 col9\" >Thigh</th>\n",
              "      <th id=\"T_a13e9_level0_col10\" class=\"col_heading level0 col10\" >Knee</th>\n",
              "      <th id=\"T_a13e9_level0_col11\" class=\"col_heading level0 col11\" >Ankle</th>\n",
              "      <th id=\"T_a13e9_level0_col12\" class=\"col_heading level0 col12\" >Biceps</th>\n",
              "      <th id=\"T_a13e9_level0_col13\" class=\"col_heading level0 col13\" >Forearm</th>\n",
              "      <th id=\"T_a13e9_level0_col14\" class=\"col_heading level0 col14\" >Wrist</th>\n",
              "    </tr>\n",
              "  </thead>\n",
              "  <tbody>\n",
              "    <tr>\n",
              "      <th id=\"T_a13e9_level0_row0\" class=\"row_heading level0 row0\" >Density</th>\n",
              "      <td id=\"T_a13e9_row0_col0\" class=\"data row0 col0\" >1</td>\n",
              "      <td id=\"T_a13e9_row0_col1\" class=\"data row0 col1\" >-0.99</td>\n",
              "      <td id=\"T_a13e9_row0_col2\" class=\"data row0 col2\" >-0.28</td>\n",
              "      <td id=\"T_a13e9_row0_col3\" class=\"data row0 col3\" >-0.59</td>\n",
              "      <td id=\"T_a13e9_row0_col4\" class=\"data row0 col4\" >0.098</td>\n",
              "      <td id=\"T_a13e9_row0_col5\" class=\"data row0 col5\" >-0.47</td>\n",
              "      <td id=\"T_a13e9_row0_col6\" class=\"data row0 col6\" >-0.68</td>\n",
              "      <td id=\"T_a13e9_row0_col7\" class=\"data row0 col7\" >-0.8</td>\n",
              "      <td id=\"T_a13e9_row0_col8\" class=\"data row0 col8\" >-0.61</td>\n",
              "      <td id=\"T_a13e9_row0_col9\" class=\"data row0 col9\" >-0.55</td>\n",
              "      <td id=\"T_a13e9_row0_col10\" class=\"data row0 col10\" >-0.5</td>\n",
              "      <td id=\"T_a13e9_row0_col11\" class=\"data row0 col11\" >-0.26</td>\n",
              "      <td id=\"T_a13e9_row0_col12\" class=\"data row0 col12\" >-0.49</td>\n",
              "      <td id=\"T_a13e9_row0_col13\" class=\"data row0 col13\" >-0.35</td>\n",
              "      <td id=\"T_a13e9_row0_col14\" class=\"data row0 col14\" >-0.33</td>\n",
              "    </tr>\n",
              "    <tr>\n",
              "      <th id=\"T_a13e9_level0_row1\" class=\"row_heading level0 row1\" >BodyFat</th>\n",
              "      <td id=\"T_a13e9_row1_col0\" class=\"data row1 col0\" >-0.99</td>\n",
              "      <td id=\"T_a13e9_row1_col1\" class=\"data row1 col1\" >1</td>\n",
              "      <td id=\"T_a13e9_row1_col2\" class=\"data row1 col2\" >0.29</td>\n",
              "      <td id=\"T_a13e9_row1_col3\" class=\"data row1 col3\" >0.61</td>\n",
              "      <td id=\"T_a13e9_row1_col4\" class=\"data row1 col4\" >-0.089</td>\n",
              "      <td id=\"T_a13e9_row1_col5\" class=\"data row1 col5\" >0.49</td>\n",
              "      <td id=\"T_a13e9_row1_col6\" class=\"data row1 col6\" >0.7</td>\n",
              "      <td id=\"T_a13e9_row1_col7\" class=\"data row1 col7\" >0.81</td>\n",
              "      <td id=\"T_a13e9_row1_col8\" class=\"data row1 col8\" >0.63</td>\n",
              "      <td id=\"T_a13e9_row1_col9\" class=\"data row1 col9\" >0.56</td>\n",
              "      <td id=\"T_a13e9_row1_col10\" class=\"data row1 col10\" >0.51</td>\n",
              "      <td id=\"T_a13e9_row1_col11\" class=\"data row1 col11\" >0.27</td>\n",
              "      <td id=\"T_a13e9_row1_col12\" class=\"data row1 col12\" >0.49</td>\n",
              "      <td id=\"T_a13e9_row1_col13\" class=\"data row1 col13\" >0.36</td>\n",
              "      <td id=\"T_a13e9_row1_col14\" class=\"data row1 col14\" >0.35</td>\n",
              "    </tr>\n",
              "    <tr>\n",
              "      <th id=\"T_a13e9_level0_row2\" class=\"row_heading level0 row2\" >Age</th>\n",
              "      <td id=\"T_a13e9_row2_col0\" class=\"data row2 col0\" >-0.28</td>\n",
              "      <td id=\"T_a13e9_row2_col1\" class=\"data row2 col1\" >0.29</td>\n",
              "      <td id=\"T_a13e9_row2_col2\" class=\"data row2 col2\" >1</td>\n",
              "      <td id=\"T_a13e9_row2_col3\" class=\"data row2 col3\" >-0.013</td>\n",
              "      <td id=\"T_a13e9_row2_col4\" class=\"data row2 col4\" >-0.17</td>\n",
              "      <td id=\"T_a13e9_row2_col5\" class=\"data row2 col5\" >0.11</td>\n",
              "      <td id=\"T_a13e9_row2_col6\" class=\"data row2 col6\" >0.18</td>\n",
              "      <td id=\"T_a13e9_row2_col7\" class=\"data row2 col7\" >0.23</td>\n",
              "      <td id=\"T_a13e9_row2_col8\" class=\"data row2 col8\" >-0.05</td>\n",
              "      <td id=\"T_a13e9_row2_col9\" class=\"data row2 col9\" >-0.2</td>\n",
              "      <td id=\"T_a13e9_row2_col10\" class=\"data row2 col10\" >0.018</td>\n",
              "      <td id=\"T_a13e9_row2_col11\" class=\"data row2 col11\" >-0.11</td>\n",
              "      <td id=\"T_a13e9_row2_col12\" class=\"data row2 col12\" >-0.041</td>\n",
              "      <td id=\"T_a13e9_row2_col13\" class=\"data row2 col13\" >-0.085</td>\n",
              "      <td id=\"T_a13e9_row2_col14\" class=\"data row2 col14\" >0.21</td>\n",
              "    </tr>\n",
              "    <tr>\n",
              "      <th id=\"T_a13e9_level0_row3\" class=\"row_heading level0 row3\" >Weight</th>\n",
              "      <td id=\"T_a13e9_row3_col0\" class=\"data row3 col0\" >-0.59</td>\n",
              "      <td id=\"T_a13e9_row3_col1\" class=\"data row3 col1\" >0.61</td>\n",
              "      <td id=\"T_a13e9_row3_col2\" class=\"data row3 col2\" >-0.013</td>\n",
              "      <td id=\"T_a13e9_row3_col3\" class=\"data row3 col3\" >1</td>\n",
              "      <td id=\"T_a13e9_row3_col4\" class=\"data row3 col4\" >0.31</td>\n",
              "      <td id=\"T_a13e9_row3_col5\" class=\"data row3 col5\" >0.83</td>\n",
              "      <td id=\"T_a13e9_row3_col6\" class=\"data row3 col6\" >0.89</td>\n",
              "      <td id=\"T_a13e9_row3_col7\" class=\"data row3 col7\" >0.89</td>\n",
              "      <td id=\"T_a13e9_row3_col8\" class=\"data row3 col8\" >0.94</td>\n",
              "      <td id=\"T_a13e9_row3_col9\" class=\"data row3 col9\" >0.87</td>\n",
              "      <td id=\"T_a13e9_row3_col10\" class=\"data row3 col10\" >0.85</td>\n",
              "      <td id=\"T_a13e9_row3_col11\" class=\"data row3 col11\" >0.61</td>\n",
              "      <td id=\"T_a13e9_row3_col12\" class=\"data row3 col12\" >0.8</td>\n",
              "      <td id=\"T_a13e9_row3_col13\" class=\"data row3 col13\" >0.63</td>\n",
              "      <td id=\"T_a13e9_row3_col14\" class=\"data row3 col14\" >0.73</td>\n",
              "    </tr>\n",
              "    <tr>\n",
              "      <th id=\"T_a13e9_level0_row4\" class=\"row_heading level0 row4\" >Height</th>\n",
              "      <td id=\"T_a13e9_row4_col0\" class=\"data row4 col0\" >0.098</td>\n",
              "      <td id=\"T_a13e9_row4_col1\" class=\"data row4 col1\" >-0.089</td>\n",
              "      <td id=\"T_a13e9_row4_col2\" class=\"data row4 col2\" >-0.17</td>\n",
              "      <td id=\"T_a13e9_row4_col3\" class=\"data row4 col3\" >0.31</td>\n",
              "      <td id=\"T_a13e9_row4_col4\" class=\"data row4 col4\" >1</td>\n",
              "      <td id=\"T_a13e9_row4_col5\" class=\"data row4 col5\" >0.25</td>\n",
              "      <td id=\"T_a13e9_row4_col6\" class=\"data row4 col6\" >0.13</td>\n",
              "      <td id=\"T_a13e9_row4_col7\" class=\"data row4 col7\" >0.088</td>\n",
              "      <td id=\"T_a13e9_row4_col8\" class=\"data row4 col8\" >0.17</td>\n",
              "      <td id=\"T_a13e9_row4_col9\" class=\"data row4 col9\" >0.15</td>\n",
              "      <td id=\"T_a13e9_row4_col10\" class=\"data row4 col10\" >0.29</td>\n",
              "      <td id=\"T_a13e9_row4_col11\" class=\"data row4 col11\" >0.26</td>\n",
              "      <td id=\"T_a13e9_row4_col12\" class=\"data row4 col12\" >0.21</td>\n",
              "      <td id=\"T_a13e9_row4_col13\" class=\"data row4 col13\" >0.23</td>\n",
              "      <td id=\"T_a13e9_row4_col14\" class=\"data row4 col14\" >0.32</td>\n",
              "    </tr>\n",
              "    <tr>\n",
              "      <th id=\"T_a13e9_level0_row5\" class=\"row_heading level0 row5\" >Neck</th>\n",
              "      <td id=\"T_a13e9_row5_col0\" class=\"data row5 col0\" >-0.47</td>\n",
              "      <td id=\"T_a13e9_row5_col1\" class=\"data row5 col1\" >0.49</td>\n",
              "      <td id=\"T_a13e9_row5_col2\" class=\"data row5 col2\" >0.11</td>\n",
              "      <td id=\"T_a13e9_row5_col3\" class=\"data row5 col3\" >0.83</td>\n",
              "      <td id=\"T_a13e9_row5_col4\" class=\"data row5 col4\" >0.25</td>\n",
              "      <td id=\"T_a13e9_row5_col5\" class=\"data row5 col5\" >1</td>\n",
              "      <td id=\"T_a13e9_row5_col6\" class=\"data row5 col6\" >0.78</td>\n",
              "      <td id=\"T_a13e9_row5_col7\" class=\"data row5 col7\" >0.75</td>\n",
              "      <td id=\"T_a13e9_row5_col8\" class=\"data row5 col8\" >0.73</td>\n",
              "      <td id=\"T_a13e9_row5_col9\" class=\"data row5 col9\" >0.7</td>\n",
              "      <td id=\"T_a13e9_row5_col10\" class=\"data row5 col10\" >0.67</td>\n",
              "      <td id=\"T_a13e9_row5_col11\" class=\"data row5 col11\" >0.48</td>\n",
              "      <td id=\"T_a13e9_row5_col12\" class=\"data row5 col12\" >0.73</td>\n",
              "      <td id=\"T_a13e9_row5_col13\" class=\"data row5 col13\" >0.62</td>\n",
              "      <td id=\"T_a13e9_row5_col14\" class=\"data row5 col14\" >0.74</td>\n",
              "    </tr>\n",
              "    <tr>\n",
              "      <th id=\"T_a13e9_level0_row6\" class=\"row_heading level0 row6\" >Chest</th>\n",
              "      <td id=\"T_a13e9_row6_col0\" class=\"data row6 col0\" >-0.68</td>\n",
              "      <td id=\"T_a13e9_row6_col1\" class=\"data row6 col1\" >0.7</td>\n",
              "      <td id=\"T_a13e9_row6_col2\" class=\"data row6 col2\" >0.18</td>\n",
              "      <td id=\"T_a13e9_row6_col3\" class=\"data row6 col3\" >0.89</td>\n",
              "      <td id=\"T_a13e9_row6_col4\" class=\"data row6 col4\" >0.13</td>\n",
              "      <td id=\"T_a13e9_row6_col5\" class=\"data row6 col5\" >0.78</td>\n",
              "      <td id=\"T_a13e9_row6_col6\" class=\"data row6 col6\" >1</td>\n",
              "      <td id=\"T_a13e9_row6_col7\" class=\"data row6 col7\" >0.92</td>\n",
              "      <td id=\"T_a13e9_row6_col8\" class=\"data row6 col8\" >0.83</td>\n",
              "      <td id=\"T_a13e9_row6_col9\" class=\"data row6 col9\" >0.73</td>\n",
              "      <td id=\"T_a13e9_row6_col10\" class=\"data row6 col10\" >0.72</td>\n",
              "      <td id=\"T_a13e9_row6_col11\" class=\"data row6 col11\" >0.48</td>\n",
              "      <td id=\"T_a13e9_row6_col12\" class=\"data row6 col12\" >0.73</td>\n",
              "      <td id=\"T_a13e9_row6_col13\" class=\"data row6 col13\" >0.58</td>\n",
              "      <td id=\"T_a13e9_row6_col14\" class=\"data row6 col14\" >0.66</td>\n",
              "    </tr>\n",
              "    <tr>\n",
              "      <th id=\"T_a13e9_level0_row7\" class=\"row_heading level0 row7\" >Abdomen</th>\n",
              "      <td id=\"T_a13e9_row7_col0\" class=\"data row7 col0\" >-0.8</td>\n",
              "      <td id=\"T_a13e9_row7_col1\" class=\"data row7 col1\" >0.81</td>\n",
              "      <td id=\"T_a13e9_row7_col2\" class=\"data row7 col2\" >0.23</td>\n",
              "      <td id=\"T_a13e9_row7_col3\" class=\"data row7 col3\" >0.89</td>\n",
              "      <td id=\"T_a13e9_row7_col4\" class=\"data row7 col4\" >0.088</td>\n",
              "      <td id=\"T_a13e9_row7_col5\" class=\"data row7 col5\" >0.75</td>\n",
              "      <td id=\"T_a13e9_row7_col6\" class=\"data row7 col6\" >0.92</td>\n",
              "      <td id=\"T_a13e9_row7_col7\" class=\"data row7 col7\" >1</td>\n",
              "      <td id=\"T_a13e9_row7_col8\" class=\"data row7 col8\" >0.87</td>\n",
              "      <td id=\"T_a13e9_row7_col9\" class=\"data row7 col9\" >0.77</td>\n",
              "      <td id=\"T_a13e9_row7_col10\" class=\"data row7 col10\" >0.74</td>\n",
              "      <td id=\"T_a13e9_row7_col11\" class=\"data row7 col11\" >0.45</td>\n",
              "      <td id=\"T_a13e9_row7_col12\" class=\"data row7 col12\" >0.68</td>\n",
              "      <td id=\"T_a13e9_row7_col13\" class=\"data row7 col13\" >0.5</td>\n",
              "      <td id=\"T_a13e9_row7_col14\" class=\"data row7 col14\" >0.62</td>\n",
              "    </tr>\n",
              "    <tr>\n",
              "      <th id=\"T_a13e9_level0_row8\" class=\"row_heading level0 row8\" >Hip</th>\n",
              "      <td id=\"T_a13e9_row8_col0\" class=\"data row8 col0\" >-0.61</td>\n",
              "      <td id=\"T_a13e9_row8_col1\" class=\"data row8 col1\" >0.63</td>\n",
              "      <td id=\"T_a13e9_row8_col2\" class=\"data row8 col2\" >-0.05</td>\n",
              "      <td id=\"T_a13e9_row8_col3\" class=\"data row8 col3\" >0.94</td>\n",
              "      <td id=\"T_a13e9_row8_col4\" class=\"data row8 col4\" >0.17</td>\n",
              "      <td id=\"T_a13e9_row8_col5\" class=\"data row8 col5\" >0.73</td>\n",
              "      <td id=\"T_a13e9_row8_col6\" class=\"data row8 col6\" >0.83</td>\n",
              "      <td id=\"T_a13e9_row8_col7\" class=\"data row8 col7\" >0.87</td>\n",
              "      <td id=\"T_a13e9_row8_col8\" class=\"data row8 col8\" >1</td>\n",
              "      <td id=\"T_a13e9_row8_col9\" class=\"data row8 col9\" >0.9</td>\n",
              "      <td id=\"T_a13e9_row8_col10\" class=\"data row8 col10\" >0.82</td>\n",
              "      <td id=\"T_a13e9_row8_col11\" class=\"data row8 col11\" >0.56</td>\n",
              "      <td id=\"T_a13e9_row8_col12\" class=\"data row8 col12\" >0.74</td>\n",
              "      <td id=\"T_a13e9_row8_col13\" class=\"data row8 col13\" >0.55</td>\n",
              "      <td id=\"T_a13e9_row8_col14\" class=\"data row8 col14\" >0.63</td>\n",
              "    </tr>\n",
              "    <tr>\n",
              "      <th id=\"T_a13e9_level0_row9\" class=\"row_heading level0 row9\" >Thigh</th>\n",
              "      <td id=\"T_a13e9_row9_col0\" class=\"data row9 col0\" >-0.55</td>\n",
              "      <td id=\"T_a13e9_row9_col1\" class=\"data row9 col1\" >0.56</td>\n",
              "      <td id=\"T_a13e9_row9_col2\" class=\"data row9 col2\" >-0.2</td>\n",
              "      <td id=\"T_a13e9_row9_col3\" class=\"data row9 col3\" >0.87</td>\n",
              "      <td id=\"T_a13e9_row9_col4\" class=\"data row9 col4\" >0.15</td>\n",
              "      <td id=\"T_a13e9_row9_col5\" class=\"data row9 col5\" >0.7</td>\n",
              "      <td id=\"T_a13e9_row9_col6\" class=\"data row9 col6\" >0.73</td>\n",
              "      <td id=\"T_a13e9_row9_col7\" class=\"data row9 col7\" >0.77</td>\n",
              "      <td id=\"T_a13e9_row9_col8\" class=\"data row9 col8\" >0.9</td>\n",
              "      <td id=\"T_a13e9_row9_col9\" class=\"data row9 col9\" >1</td>\n",
              "      <td id=\"T_a13e9_row9_col10\" class=\"data row9 col10\" >0.8</td>\n",
              "      <td id=\"T_a13e9_row9_col11\" class=\"data row9 col11\" >0.54</td>\n",
              "      <td id=\"T_a13e9_row9_col12\" class=\"data row9 col12\" >0.76</td>\n",
              "      <td id=\"T_a13e9_row9_col13\" class=\"data row9 col13\" >0.57</td>\n",
              "      <td id=\"T_a13e9_row9_col14\" class=\"data row9 col14\" >0.56</td>\n",
              "    </tr>\n",
              "    <tr>\n",
              "      <th id=\"T_a13e9_level0_row10\" class=\"row_heading level0 row10\" >Knee</th>\n",
              "      <td id=\"T_a13e9_row10_col0\" class=\"data row10 col0\" >-0.5</td>\n",
              "      <td id=\"T_a13e9_row10_col1\" class=\"data row10 col1\" >0.51</td>\n",
              "      <td id=\"T_a13e9_row10_col2\" class=\"data row10 col2\" >0.018</td>\n",
              "      <td id=\"T_a13e9_row10_col3\" class=\"data row10 col3\" >0.85</td>\n",
              "      <td id=\"T_a13e9_row10_col4\" class=\"data row10 col4\" >0.29</td>\n",
              "      <td id=\"T_a13e9_row10_col5\" class=\"data row10 col5\" >0.67</td>\n",
              "      <td id=\"T_a13e9_row10_col6\" class=\"data row10 col6\" >0.72</td>\n",
              "      <td id=\"T_a13e9_row10_col7\" class=\"data row10 col7\" >0.74</td>\n",
              "      <td id=\"T_a13e9_row10_col8\" class=\"data row10 col8\" >0.82</td>\n",
              "      <td id=\"T_a13e9_row10_col9\" class=\"data row10 col9\" >0.8</td>\n",
              "      <td id=\"T_a13e9_row10_col10\" class=\"data row10 col10\" >1</td>\n",
              "      <td id=\"T_a13e9_row10_col11\" class=\"data row10 col11\" >0.61</td>\n",
              "      <td id=\"T_a13e9_row10_col12\" class=\"data row10 col12\" >0.68</td>\n",
              "      <td id=\"T_a13e9_row10_col13\" class=\"data row10 col13\" >0.56</td>\n",
              "      <td id=\"T_a13e9_row10_col14\" class=\"data row10 col14\" >0.66</td>\n",
              "    </tr>\n",
              "    <tr>\n",
              "      <th id=\"T_a13e9_level0_row11\" class=\"row_heading level0 row11\" >Ankle</th>\n",
              "      <td id=\"T_a13e9_row11_col0\" class=\"data row11 col0\" >-0.26</td>\n",
              "      <td id=\"T_a13e9_row11_col1\" class=\"data row11 col1\" >0.27</td>\n",
              "      <td id=\"T_a13e9_row11_col2\" class=\"data row11 col2\" >-0.11</td>\n",
              "      <td id=\"T_a13e9_row11_col3\" class=\"data row11 col3\" >0.61</td>\n",
              "      <td id=\"T_a13e9_row11_col4\" class=\"data row11 col4\" >0.26</td>\n",
              "      <td id=\"T_a13e9_row11_col5\" class=\"data row11 col5\" >0.48</td>\n",
              "      <td id=\"T_a13e9_row11_col6\" class=\"data row11 col6\" >0.48</td>\n",
              "      <td id=\"T_a13e9_row11_col7\" class=\"data row11 col7\" >0.45</td>\n",
              "      <td id=\"T_a13e9_row11_col8\" class=\"data row11 col8\" >0.56</td>\n",
              "      <td id=\"T_a13e9_row11_col9\" class=\"data row11 col9\" >0.54</td>\n",
              "      <td id=\"T_a13e9_row11_col10\" class=\"data row11 col10\" >0.61</td>\n",
              "      <td id=\"T_a13e9_row11_col11\" class=\"data row11 col11\" >1</td>\n",
              "      <td id=\"T_a13e9_row11_col12\" class=\"data row11 col12\" >0.48</td>\n",
              "      <td id=\"T_a13e9_row11_col13\" class=\"data row11 col13\" >0.42</td>\n",
              "      <td id=\"T_a13e9_row11_col14\" class=\"data row11 col14\" >0.57</td>\n",
              "    </tr>\n",
              "    <tr>\n",
              "      <th id=\"T_a13e9_level0_row12\" class=\"row_heading level0 row12\" >Biceps</th>\n",
              "      <td id=\"T_a13e9_row12_col0\" class=\"data row12 col0\" >-0.49</td>\n",
              "      <td id=\"T_a13e9_row12_col1\" class=\"data row12 col1\" >0.49</td>\n",
              "      <td id=\"T_a13e9_row12_col2\" class=\"data row12 col2\" >-0.041</td>\n",
              "      <td id=\"T_a13e9_row12_col3\" class=\"data row12 col3\" >0.8</td>\n",
              "      <td id=\"T_a13e9_row12_col4\" class=\"data row12 col4\" >0.21</td>\n",
              "      <td id=\"T_a13e9_row12_col5\" class=\"data row12 col5\" >0.73</td>\n",
              "      <td id=\"T_a13e9_row12_col6\" class=\"data row12 col6\" >0.73</td>\n",
              "      <td id=\"T_a13e9_row12_col7\" class=\"data row12 col7\" >0.68</td>\n",
              "      <td id=\"T_a13e9_row12_col8\" class=\"data row12 col8\" >0.74</td>\n",
              "      <td id=\"T_a13e9_row12_col9\" class=\"data row12 col9\" >0.76</td>\n",
              "      <td id=\"T_a13e9_row12_col10\" class=\"data row12 col10\" >0.68</td>\n",
              "      <td id=\"T_a13e9_row12_col11\" class=\"data row12 col11\" >0.48</td>\n",
              "      <td id=\"T_a13e9_row12_col12\" class=\"data row12 col12\" >1</td>\n",
              "      <td id=\"T_a13e9_row12_col13\" class=\"data row12 col13\" >0.68</td>\n",
              "      <td id=\"T_a13e9_row12_col14\" class=\"data row12 col14\" >0.63</td>\n",
              "    </tr>\n",
              "    <tr>\n",
              "      <th id=\"T_a13e9_level0_row13\" class=\"row_heading level0 row13\" >Forearm</th>\n",
              "      <td id=\"T_a13e9_row13_col0\" class=\"data row13 col0\" >-0.35</td>\n",
              "      <td id=\"T_a13e9_row13_col1\" class=\"data row13 col1\" >0.36</td>\n",
              "      <td id=\"T_a13e9_row13_col2\" class=\"data row13 col2\" >-0.085</td>\n",
              "      <td id=\"T_a13e9_row13_col3\" class=\"data row13 col3\" >0.63</td>\n",
              "      <td id=\"T_a13e9_row13_col4\" class=\"data row13 col4\" >0.23</td>\n",
              "      <td id=\"T_a13e9_row13_col5\" class=\"data row13 col5\" >0.62</td>\n",
              "      <td id=\"T_a13e9_row13_col6\" class=\"data row13 col6\" >0.58</td>\n",
              "      <td id=\"T_a13e9_row13_col7\" class=\"data row13 col7\" >0.5</td>\n",
              "      <td id=\"T_a13e9_row13_col8\" class=\"data row13 col8\" >0.55</td>\n",
              "      <td id=\"T_a13e9_row13_col9\" class=\"data row13 col9\" >0.57</td>\n",
              "      <td id=\"T_a13e9_row13_col10\" class=\"data row13 col10\" >0.56</td>\n",
              "      <td id=\"T_a13e9_row13_col11\" class=\"data row13 col11\" >0.42</td>\n",
              "      <td id=\"T_a13e9_row13_col12\" class=\"data row13 col12\" >0.68</td>\n",
              "      <td id=\"T_a13e9_row13_col13\" class=\"data row13 col13\" >1</td>\n",
              "      <td id=\"T_a13e9_row13_col14\" class=\"data row13 col14\" >0.59</td>\n",
              "    </tr>\n",
              "    <tr>\n",
              "      <th id=\"T_a13e9_level0_row14\" class=\"row_heading level0 row14\" >Wrist</th>\n",
              "      <td id=\"T_a13e9_row14_col0\" class=\"data row14 col0\" >-0.33</td>\n",
              "      <td id=\"T_a13e9_row14_col1\" class=\"data row14 col1\" >0.35</td>\n",
              "      <td id=\"T_a13e9_row14_col2\" class=\"data row14 col2\" >0.21</td>\n",
              "      <td id=\"T_a13e9_row14_col3\" class=\"data row14 col3\" >0.73</td>\n",
              "      <td id=\"T_a13e9_row14_col4\" class=\"data row14 col4\" >0.32</td>\n",
              "      <td id=\"T_a13e9_row14_col5\" class=\"data row14 col5\" >0.74</td>\n",
              "      <td id=\"T_a13e9_row14_col6\" class=\"data row14 col6\" >0.66</td>\n",
              "      <td id=\"T_a13e9_row14_col7\" class=\"data row14 col7\" >0.62</td>\n",
              "      <td id=\"T_a13e9_row14_col8\" class=\"data row14 col8\" >0.63</td>\n",
              "      <td id=\"T_a13e9_row14_col9\" class=\"data row14 col9\" >0.56</td>\n",
              "      <td id=\"T_a13e9_row14_col10\" class=\"data row14 col10\" >0.66</td>\n",
              "      <td id=\"T_a13e9_row14_col11\" class=\"data row14 col11\" >0.57</td>\n",
              "      <td id=\"T_a13e9_row14_col12\" class=\"data row14 col12\" >0.63</td>\n",
              "      <td id=\"T_a13e9_row14_col13\" class=\"data row14 col13\" >0.59</td>\n",
              "      <td id=\"T_a13e9_row14_col14\" class=\"data row14 col14\" >1</td>\n",
              "    </tr>\n",
              "  </tbody>\n",
              "</table>\n"
            ],
            "text/plain": [
              "<pandas.io.formats.style.Styler at 0x7f7474a3e8f0>"
            ]
          },
          "execution_count": 9,
          "metadata": {},
          "output_type": "execute_result"
        }
      ],
      "source": [
        "df.corr().style.background_gradient('coolwarm').format('{:.2g}'.format)"
      ]
    },
    {
      "attachments": {},
      "cell_type": "markdown",
      "metadata": {
        "id": "jQMgz-6wXdqd"
      },
      "source": [
        "**Вопрос.** Глядя на карту корреляций, можете ли вы выявить линейно зависимые признаки?\n",
        "\n",
        "<u>**Ответ**</u>: да, можно сказать о положительной линейной зависимости в клетках с коэффициентами близкими к 1, и отрицательной в клетках с коэффициентами корреляции близкими к -1 "
      ]
    },
    {
      "cell_type": "markdown",
      "metadata": {
        "id": "RQrv4XW4XffW"
      },
      "source": [
        "### Определение целевой и объясняющих переменных"
      ]
    },
    {
      "cell_type": "markdown",
      "metadata": {
        "id": "HDv_Fdz9Mhza"
      },
      "source": [
        "Выберите величину, которую вы собираетесь предсказывать. На выбор: **возраст**, **рост** или **вес**. Укажите это снизу:"
      ]
    },
    {
      "attachments": {},
      "cell_type": "markdown",
      "metadata": {
        "id": "q7sm9yLyLyfx"
      },
      "source": [
        "### Я предсказываю <u>**вес**</u>"
      ]
    },
    {
      "attachments": {},
      "cell_type": "markdown",
      "metadata": {
        "id": "Mh1KzT96YIbm"
      },
      "source": [
        "Отберите признаки, по которым вы будете предсказывать целевую переменную (список из названий столбцов) и запишите их в переменную `cols`.\n",
        "\n",
        "**Вопрос.** По какому критерию нужно отбирать объясняющие переменные (переменные, по которым предсказываем целевую)\n",
        "\n",
        "<u>**Ответ**</u>: так как мы обучаем линейную модель и у нас нет цели в точной интерпретации коэффициентов, то можем выбирать на основе большого абсолютного коэффициента корреляции. Однако, следует иметь ввиду, что если нам нужны BLUE оценки, то нужно проверять предпосылки Гаусса-Маркова и знать предметную область. Например, возможно, что некоторые признаки признаки формируются на основе других $\\implies$ может возникнуть мультиколлинеарность.\n",
        "\n",
        "Дополнительно, после построения модели можно посмотреть зависимость ошибки от целевой переменной, чтобы посмотреть хорошо ли мы выбрали признаки. Если она будет большой, значит мы выбрали не все признаки, которые объясняют y. "
      ]
    },
    {
      "attachments": {},
      "cell_type": "markdown",
      "metadata": {
        "id": "sIgaxydGahMb"
      },
      "source": [
        "**(*) Дополнительно.** Постройте графики рассеяния между объясняющими переменными и целевой переменной. Наблюдаются ли линейные зависимости?"
      ]
    },
    {
      "cell_type": "code",
      "execution_count": 56,
      "metadata": {},
      "outputs": [
        {
          "data": {
            "image/png": "[encoded data removed]",
            "text/plain": [
              "<Figure size 2250x250 with 9 Axes>"
            ]
          },
          "metadata": {},
          "output_type": "display_data"
        }
      ],
      "source": [
        "cols = ['Density', 'Neck', 'Chest', 'Abdomen', 'Hip', 'Thigh', 'Knee', 'Biceps', 'Wrist']\n",
        "g = sns.PairGrid(data=df, x_vars=cols, y_vars='Weight')\n",
        "g.map(sns.scatterplot);"
      ]
    },
    {
      "attachments": {},
      "cell_type": "markdown",
      "metadata": {},
      "source": [
        "<u>**Ответ**</u>: наблюдаются"
      ]
    },
    {
      "cell_type": "code",
      "execution_count": 57,
      "metadata": {
        "id": "NDM1nAILYUqs"
      },
      "outputs": [],
      "source": [
        "### ЗДЕСЬ ВАШ КОД ¯\\_(ツ)_/¯ \n",
        "\n",
        "cols = ['Density', 'Neck', 'Chest', 'Abdomen', 'Hip', 'Thigh', 'Knee', 'Biceps', 'Wrist'] # список из столбцов - объясняющих переменных"
      ]
    },
    {
      "cell_type": "markdown",
      "metadata": {
        "id": "ycVGDmW_NmWV"
      },
      "source": [
        "Запишите в переменную `y` столбец-признак, который предсказываете, а в переменную `X` признаки, по которым предсказываете"
      ]
    },
    {
      "cell_type": "code",
      "execution_count": 58,
      "metadata": {
        "id": "991yG5HaNVVV"
      },
      "outputs": [],
      "source": [
        "### ЗДЕСЬ ВАШ КОД ¯\\_(ツ)_/¯ \n",
        "\n",
        "X, y = df[cols], df['Weight']"
      ]
    },
    {
      "cell_type": "markdown",
      "metadata": {
        "id": "VXbGmUNqKxP3"
      },
      "source": [
        "### Разбиение данных"
      ]
    },
    {
      "cell_type": "markdown",
      "metadata": {
        "id": "Z1Bj6dkHKzTm"
      },
      "source": [
        "Разбейте данные на тренировочную и тестовую части. На тестовую выделите 20% выборки, можно зафиксировать `random_state`"
      ]
    },
    {
      "cell_type": "code",
      "execution_count": 13,
      "metadata": {
        "id": "m-lWcB-9gGzF"
      },
      "outputs": [],
      "source": [
        "from sklearn.model_selection import train_test_split"
      ]
    },
    {
      "cell_type": "code",
      "execution_count": 14,
      "metadata": {
        "id": "b09LDwzCKzEG"
      },
      "outputs": [],
      "source": [
        "### ЗДЕСЬ ВАШ КОД ¯\\_(ツ)_/¯ \n",
        "\n",
        "X_train, X_test, y_train, y_test = train_test_split(X, y, train_size=0.8, random_state=1337)"
      ]
    },
    {
      "cell_type": "markdown",
      "metadata": {
        "id": "L1bGPfp6ry79"
      },
      "source": [
        "### Масштабирование признаков"
      ]
    },
    {
      "cell_type": "markdown",
      "metadata": {
        "id": "mvH2zz_Qr3O8"
      },
      "source": [
        "Отмасштабируйте признаки с помощью [`StandardScaler`](https://scikit-learn.org/stable/modules/generated/sklearn.preprocessing.StandardScaler.html). Не забудьте, что scaler \"обучается\" только на тренировочных признаках"
      ]
    },
    {
      "cell_type": "code",
      "execution_count": 15,
      "metadata": {
        "id": "OZ8Exo1kr2Yh"
      },
      "outputs": [],
      "source": [
        "from sklearn.preprocessing import StandardScaler"
      ]
    },
    {
      "cell_type": "code",
      "execution_count": 16,
      "metadata": {
        "id": "x-wWJ2s1sMk7"
      },
      "outputs": [],
      "source": [
        "### ЗДЕСЬ ВАШ КОД ¯\\_(ツ)_/¯ \n",
        "\n",
        "scaler = StandardScaler()\n",
        "X_train = scaler.fit_transform(X_train)\n",
        "X_test = scaler.transform(X_test)"
      ]
    },
    {
      "cell_type": "markdown",
      "metadata": {
        "id": "HJdmKB3AKjmX"
      },
      "source": [
        "### Построение модели линейной регрессии"
      ]
    },
    {
      "cell_type": "markdown",
      "metadata": {
        "id": "W4SLQTQzPtYg"
      },
      "source": [
        "Обучите модель [`Ridge`](https://scikit-learn.org/stable/modules/generated/sklearn.linear_model.Ridge.html) на тренировочных данных и сделайте предсказание"
      ]
    },
    {
      "cell_type": "code",
      "execution_count": 17,
      "metadata": {
        "id": "iWlDtpjzgFjg"
      },
      "outputs": [],
      "source": [
        "from sklearn.linear_model import Ridge"
      ]
    },
    {
      "cell_type": "code",
      "execution_count": 18,
      "metadata": {
        "id": "mhoBmo1KKl1z"
      },
      "outputs": [],
      "source": [
        "### ЗДЕСЬ ВАШ КОД ¯\\_(ツ)_/¯\n",
        "\n",
        "linreg = Ridge().fit(X_train, y_train) # здесь будет ваша модель\n",
        "y_pred_train = linreg.predict(X_train) # здесь будут предсказания на тренировочных данных\n",
        "y_pred_test = linreg.predict(X_test) # здесь будут предсказания на тестовых данных"
      ]
    },
    {
      "cell_type": "markdown",
      "metadata": {
        "id": "X4O7xCqyQCG8"
      },
      "source": [
        "В качестве метрики возьмём **RMSE**. Оцените качество по этой метрике на тренировочной и тестовой выборках. Для вычисления метрики можете воспользоваться функцией **rmse_score**"
      ]
    },
    {
      "cell_type": "code",
      "execution_count": 19,
      "metadata": {
        "id": "pVlRb2lMgD7H"
      },
      "outputs": [],
      "source": [
        "def rmse_score(y_true, y_pred):\n",
        "    error = (y_true - y_pred) ** 2\n",
        "    return np.sqrt(np.mean(error))"
      ]
    },
    {
      "cell_type": "code",
      "execution_count": 20,
      "metadata": {
        "colab": {
          "base_uri": "https://localhost:8080/"
        },
        "id": "vvNS139ZQOmZ",
        "outputId": "bd9a7ad4-e419-4a99-b84d-79b1b3ef19d5"
      },
      "outputs": [
        {
          "name": "stdout",
          "output_type": "stream",
          "text": [
            "Качество на тренировочной выборке: 5.92263451970558\n",
            "Качество на тестовой выборке: 6.498686263450881\n",
            "Качество константного на тренировочной выборке: 30.01965377683209\n",
            "Качество константного на тестовой выборке: 26.53954607171962\n"
          ]
        }
      ],
      "source": [
        "### ЗДЕСЬ ВАШ КОД ¯\\_(ツ)_/¯\n",
        "\n",
        "print('Качество на тренировочной выборке:', rmse_score(y_train, y_pred_train))\n",
        "print('Качество на тестовой выборке:', rmse_score(y_test, y_pred_test))\n",
        "\n",
        "# Построим константную модель\n",
        "constant_forecast_train = np.repeat(y_train.mean(), y_train.shape[0])\n",
        "# Считаем, что никогда не видели test, используем значение из train\n",
        "constant_forecast_test = np.repeat(y_train.mean(), y_test.shape[0])\n",
        "print('Качество константного на тренировочной выборке:', rmse_score(y_train, constant_forecast_train))\n",
        "print('Качество константного на тестовой выборке:', rmse_score(y_test, constant_forecast_test))"
      ]
    },
    {
      "attachments": {},
      "cell_type": "markdown",
      "metadata": {
        "id": "MDRWFq81QgsI"
      },
      "source": [
        "**(*) Дополнительно.** Какое качество будет у константной модели по выбранной метрике? Лучше ли предсказания нашей модели?\n",
        "\n",
        "<u>**Ответ**</u>: Лучше"
      ]
    },
    {
      "cell_type": "markdown",
      "metadata": {
        "id": "W5zbHZ7SRbls"
      },
      "source": [
        "### Подбор гиперпараметров"
      ]
    },
    {
      "cell_type": "markdown",
      "metadata": {
        "id": "cQ27zUPLReWc"
      },
      "source": [
        "Попробуйте подобрать лучший коэффициент регуляризации с помощью кросс-валидации. Для этого можно воспользоваться готовым классом [`RidgeCV`](https://scikit-learn.org/stable/modules/generated/sklearn.linear_model.RidgeCV.html)"
      ]
    },
    {
      "cell_type": "markdown",
      "metadata": {
        "id": "RSEkrhaYTTVl"
      },
      "source": [
        "Основные моменты:\n",
        "* Запишите список значений коэффициента регуляризацию в переменную `alphas`\n",
        "* Не забудьте указать параметр `scoring` равным \"neg_root_mean_squared_error\""
      ]
    },
    {
      "cell_type": "code",
      "execution_count": 21,
      "metadata": {
        "id": "96cgYy2UOpUV"
      },
      "outputs": [],
      "source": [
        "from sklearn.linear_model import RidgeCV"
      ]
    },
    {
      "cell_type": "code",
      "execution_count": 44,
      "metadata": {
        "colab": {
          "base_uri": "https://localhost:8080/"
        },
        "id": "QxD4TYX5Rwwo",
        "outputId": "f88cd969-ab5c-4c91-979c-6c63cdf0d05f"
      },
      "outputs": [
        {
          "data": {
            "text/html": [
              "<style>#sk-container-id-7 {color: black;background-color: white;}#sk-container-id-7 pre{padding: 0;}#sk-container-id-7 div.sk-toggleable {background-color: white;}#sk-container-id-7 label.sk-toggleable__label {cursor: pointer;display: block;width: 100%;margin-bottom: 0;padding: 0.3em;box-sizing: border-box;text-align: center;}#sk-container-id-7 label.sk-toggleable__label-arrow:before {content: \"▸\";float: left;margin-right: 0.25em;color: #696969;}#sk-container-id-7 label.sk-toggleable__label-arrow:hover:before {color: black;}#sk-container-id-7 div.sk-estimator:hover label.sk-toggleable__label-arrow:before {color: black;}#sk-container-id-7 div.sk-toggleable__content {max-height: 0;max-width: 0;overflow: hidden;text-align: left;background-color: #f0f8ff;}#sk-container-id-7 div.sk-toggleable__content pre {margin: 0.2em;color: black;border-radius: 0.25em;background-color: #f0f8ff;}#sk-container-id-7 input.sk-toggleable__control:checked~div.sk-toggleable__content {max-height: 200px;max-width: 100%;overflow: auto;}#sk-container-id-7 input.sk-toggleable__control:checked~label.sk-toggleable__label-arrow:before {content: \"▾\";}#sk-container-id-7 div.sk-estimator input.sk-toggleable__control:checked~label.sk-toggleable__label {background-color: #d4ebff;}#sk-container-id-7 div.sk-label input.sk-toggleable__control:checked~label.sk-toggleable__label {background-color: #d4ebff;}#sk-container-id-7 input.sk-hidden--visually {border: 0;clip: rect(1px 1px 1px 1px);clip: rect(1px, 1px, 1px, 1px);height: 1px;margin: -1px;overflow: hidden;padding: 0;position: absolute;width: 1px;}#sk-container-id-7 div.sk-estimator {font-family: monospace;background-color: #f0f8ff;border: 1px dotted black;border-radius: 0.25em;box-sizing: border-box;margin-bottom: 0.5em;}#sk-container-id-7 div.sk-estimator:hover {background-color: #d4ebff;}#sk-container-id-7 div.sk-parallel-item::after {content: \"\";width: 100%;border-bottom: 1px solid gray;flex-grow: 1;}#sk-container-id-7 div.sk-label:hover label.sk-toggleable__label {background-color: #d4ebff;}#sk-container-id-7 div.sk-serial::before {content: \"\";position: absolute;border-left: 1px solid gray;box-sizing: border-box;top: 0;bottom: 0;left: 50%;z-index: 0;}#sk-container-id-7 div.sk-serial {display: flex;flex-direction: column;align-items: center;background-color: white;padding-right: 0.2em;padding-left: 0.2em;position: relative;}#sk-container-id-7 div.sk-item {position: relative;z-index: 1;}#sk-container-id-7 div.sk-parallel {display: flex;align-items: stretch;justify-content: center;background-color: white;position: relative;}#sk-container-id-7 div.sk-item::before, #sk-container-id-7 div.sk-parallel-item::before {content: \"\";position: absolute;border-left: 1px solid gray;box-sizing: border-box;top: 0;bottom: 0;left: 50%;z-index: -1;}#sk-container-id-7 div.sk-parallel-item {display: flex;flex-direction: column;z-index: 1;position: relative;background-color: white;}#sk-container-id-7 div.sk-parallel-item:first-child::after {align-self: flex-end;width: 50%;}#sk-container-id-7 div.sk-parallel-item:last-child::after {align-self: flex-start;width: 50%;}#sk-container-id-7 div.sk-parallel-item:only-child::after {width: 0;}#sk-container-id-7 div.sk-dashed-wrapped {border: 1px dashed gray;margin: 0 0.4em 0.5em 0.4em;box-sizing: border-box;padding-bottom: 0.4em;background-color: white;}#sk-container-id-7 div.sk-label label {font-family: monospace;font-weight: bold;display: inline-block;line-height: 1.2em;}#sk-container-id-7 div.sk-label-container {text-align: center;}#sk-container-id-7 div.sk-container {/* jupyter's `normalize.less` sets `[hidden] { display: none; }` but bootstrap.min.css set `[hidden] { display: none !important; }` so we also need the `!important` here to be able to override the default hidden behavior on the sphinx rendered scikit-learn.org. See: https://github.com/scikit-learn/scikit-learn/issues/21755 */display: inline-block !important;position: relative;}#sk-container-id-7 div.sk-text-repr-fallback {display: none;}</style><div id=\"sk-container-id-7\" class=\"sk-top-container\"><div class=\"sk-text-repr-fallback\"><pre>RidgeCV(alphas=[0.01, 0.1, 0.5, 1, 2, 3, 4, 5, 10], cv=2,\n",
              "        scoring=&#x27;neg_root_mean_squared_error&#x27;)</pre><b>In a Jupyter environment, please rerun this cell to show the HTML representation or trust the notebook. <br />On GitHub, the HTML representation is unable to render, please try loading this page with nbviewer.org.</b></div><div class=\"sk-container\" hidden><div class=\"sk-item\"><div class=\"sk-estimator sk-toggleable\"><input class=\"sk-toggleable__control sk-hidden--visually\" id=\"sk-estimator-id-7\" type=\"checkbox\" checked><label for=\"sk-estimator-id-7\" class=\"sk-toggleable__label sk-toggleable__label-arrow\">RidgeCV</label><div class=\"sk-toggleable__content\"><pre>RidgeCV(alphas=[0.01, 0.1, 0.5, 1, 2, 3, 4, 5, 10], cv=2,\n",
              "        scoring=&#x27;neg_root_mean_squared_error&#x27;)</pre></div></div></div></div></div>"
            ],
            "text/plain": [
              "RidgeCV(alphas=[0.01, 0.1, 0.5, 1, 2, 3, 4, 5, 10], cv=2,\n",
              "        scoring='neg_root_mean_squared_error')"
            ]
          },
          "execution_count": 44,
          "metadata": {},
          "output_type": "execute_result"
        }
      ],
      "source": [
        "### ЗДЕСЬ ВАШ КОД ¯\\_(ツ)_/¯\n",
        "\n",
        "alphas = [0.01, 0.1, 0.5, 1, 2, 3, 4, 5, 10] # можно добавить другие перебираемые значения\n",
        "ridge_cv = RidgeCV(alphas=alphas, scoring='neg_root_mean_squared_error', cv=2) # модель со встроенной кросс-валидацией\n",
        "ridge_cv.fit(X_train, y_train)\n"
      ]
    },
    {
      "cell_type": "markdown",
      "metadata": {
        "id": "MhzlFgDhUshu"
      },
      "source": [
        "**Вопрос.** Какое получилось лучшее значений гиперпараметра?"
      ]
    },
    {
      "cell_type": "code",
      "execution_count": 45,
      "metadata": {
        "colab": {
          "base_uri": "https://localhost:8080/"
        },
        "id": "byCBLaF9WGlp",
        "outputId": "28d593df-a15b-4c93-e4a4-127ff2d35136"
      },
      "outputs": [
        {
          "name": "stdout",
          "output_type": "stream",
          "text": [
            "Лучшее значение гиперпараметра: 3.0\n"
          ]
        }
      ],
      "source": [
        "### ЗДЕСЬ ВАШ КОД ¯\\_(ツ)_/¯\n",
        "\n",
        "print('Лучшее значение гиперпараметра:', ridge_cv.alpha_)"
      ]
    },
    {
      "cell_type": "markdown",
      "metadata": {
        "id": "75zIH_weT2cX"
      },
      "source": [
        "Обучите модель `Ridge` с лучшим значением гиперпараметра на тренировочных данных и оцените качество модели"
      ]
    },
    {
      "cell_type": "code",
      "execution_count": 50,
      "metadata": {
        "colab": {
          "base_uri": "https://localhost:8080/"
        },
        "id": "BvZTUulOWPf0",
        "outputId": "035cbe32-77a7-4f4b-edc1-cf288d801ec5"
      },
      "outputs": [
        {
          "name": "stdout",
          "output_type": "stream",
          "text": [
            "Качество на тренировочной выборке: 5.934604030896677\n",
            "Качество на тестовой выборке: 6.462869003869452\n"
          ]
        }
      ],
      "source": [
        "### ЗДЕСЬ ВАШ КОД ¯\\_(ツ)_/¯\n",
        "\n",
        "linreg = Ridge(alpha=3).fit(X_train, y_train) # здесь модель с лучшим значением коэффициента регуляризации\n",
        "y_pred_train = linreg.predict(X_train) # здесь будут предсказания на тренировочных данных\n",
        "y_pred_test = linreg.predict(X_test) # здесь будут предсказания на тестовых данных\n",
        "\n",
        "print('Качество на тренировочной выборке:', rmse_score(y_train, y_pred_train))\n",
        "print('Качество на тестовой выборке:', rmse_score(y_test, y_pred_test))"
      ]
    },
    {
      "attachments": {},
      "cell_type": "markdown",
      "metadata": {
        "id": "Ms8LIgZKTrAb"
      },
      "source": [
        "**Вопрос.** Улучшилось ли качество модели после подбора гиперпараметра?\n",
        "\n",
        "<u>**Ответ**</u>: Да"
      ]
    },
    {
      "attachments": {},
      "cell_type": "markdown",
      "metadata": {
        "id": "sbcU_MbqR5-A"
      },
      "source": [
        "**(*) Дополнительно.** Можете поварьировать число сплитов (параметр `cv`). Отразилось ли это на лучшем значении гиперпараметра/качестве модели?\n",
        "\n",
        "<u>**Ответ**</u>: Вариант с 2-мя сплитами дал параметр 3, что улучшило качество модели,\n",
        "но говорить о том, что результат значим можно только проводя статистические тесты."
      ]
    },
    {
      "cell_type": "markdown",
      "metadata": {
        "id": "2d8sZUDigX59"
      },
      "source": [
        "### Выводы\n"
      ]
    },
    {
      "attachments": {},
      "cell_type": "markdown",
      "metadata": {
        "id": "SzH9TZOycn5c"
      },
      "source": [
        "**Вопрос.** Напишите выводы о проделанной работе: что было сделано, какие результаты получены?\n",
        "\n",
        "<u>**Ответ**</u>: была проведена работа по обучению моделей множественной линейной регрессии для предсказания веса. После отбора признаков по матрице корреляций и их масштабированию, была обучена модель без использования регуляризации. Она показала результат, лучший чем бейзлайн модель (константный прогноз). Добавление L2 регуляризации дополнительно улучшает качество прогноза $RMSE_{RIDGE} = 6.46 < RMSE_{default} = 6.49 < RMSE{baseline} = 26.54$. "
      ]
    },
    {
      "cell_type": "markdown",
      "metadata": {
        "id": "qOy6VJYSgdjz"
      },
      "source": [
        "### (*) Дополнительно"
      ]
    },
    {
      "cell_type": "markdown",
      "metadata": {
        "id": "A5AsxwSiVFOW"
      },
      "source": [
        "**(*) Дополнительно.** Обучите модель [`Lasso`](https://scikit-learn.org/stable/modules/generated/sklearn.linear_model.Lasso.html), попробуйте также подобрать коэффициенты регуляризации (вам может пригодиться [`LassoCV`](https://scikit-learn.org/stable/modules/generated/sklearn.linear_model.LassoCV.html)) и оценить модель с лучшим гиперпараметром. Сравните получившиеся модели Ridge и Lasso\n",
        "\n",
        "<u>**Ответ**</u>: _ _ _ _ _ _ _ _ _ _ _ _"
      ]
    },
    {
      "cell_type": "markdown",
      "metadata": {
        "id": "GEUy8VZRY3KP"
      },
      "source": [
        "**(*) Дополнительно** Для улучшения качества модели может помочь более качественная предобработка данных. Попробуйте:\n",
        "1. Вместо выбрасывания строк с пустыми значениями попробуйте заполнить их средним (или медианой) по столбцу. Помните, что среднее считается только по тренировочной выборке\n",
        "2. Попробуйте выявить выбросы в данных. Избавьтесь от них или заполните адекватным значением\n",
        "3. Попробуйте другой способ масштабирования (например, [`MinMaxScaler`](https://scikit-learn.org/stable/modules/generated/sklearn.preprocessing.MinMaxScaler.html)) или не масштабировать данные\n",
        "4. Посмотрите на распределение целевой переменной. Попробуйте привести его к нормальному распределению (логарифмирование целевой переменной, возведение в степень,..). При подсчёте метрики придётся применить обратное преобразование целевой переменной\n",
        "\n",
        "Напишите результаты экспериментов:\n",
        "\n",
        "<u>**Ответ**</u>: _ _ _ _ _ _ _ _ _ _ _ _"
      ]
    }
  ],
  "metadata": {
    "colab": {
      "provenance": []
    },
    "kernelspec": {
      "display_name": ".venv",
      "language": "python",
      "name": "python3"
    },
    "language_info": {
      "codemirror_mode": {
        "name": "ipython",
        "version": 3
      },
      "file_extension": ".py",
      "mimetype": "text/x-python",
      "name": "python",
      "nbconvert_exporter": "python",
      "pygments_lexer": "ipython3",
      "version": "3.10.9"
    },
    "vscode": {
      "interpreter": {
        "hash": "3b577d64e0b5f4798041b5b03dedba31f278fe062ef5ab99feb00ac4274d5ad7"
      }
    }
  },
  "nbformat": 4,
  "nbformat_minor": 0
}
